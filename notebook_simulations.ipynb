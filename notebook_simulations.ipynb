{
 "cells": [
  {
   "cell_type": "markdown",
   "metadata": {},
   "source": [
    "# GRSW simulations notebook"
   ]
  },
  {
   "cell_type": "markdown",
   "metadata": {},
   "source": [
    "This notebook shows how to access the summary table of the simulations data compiled for the GRSW workshop.\n",
    "It require to pull a python package to access easily the data stored on [DACE](https://dace.unige.ch/dashboard/)"
   ]
  },
  {
   "cell_type": "markdown",
   "metadata": {},
   "source": [
    "### Importing useful functions\n",
    "\n",
    "First we need to import the function needed for the notebook"
   ]
  },
  {
   "cell_type": "code",
   "execution_count": 1,
   "metadata": {},
   "outputs": [],
   "source": [
    "import os\n",
    "import sys\n",
    "from pathlib import Path\n",
    "import pandas as pd\n",
    "# add the parent directory to the path so we can import the module\n",
    "parent_of_current_working_directory = Path(os.getcwd()).resolve().parent\n",
    "sys.path.insert(0, parent_of_current_working_directory.as_posix())\n",
    "from src.ResonantState.data_download import get_metadata_summary_simulations, _get_metadata_complet_simulations"
   ]
  },
  {
   "cell_type": "markdown",
   "metadata": {},
   "source": [
    "We can download the metatable to have a look on the available observations samples"
   ]
  },
  {
   "cell_type": "code",
   "execution_count": 9,
   "metadata": {},
   "outputs": [
    {
     "name": "stdout",
     "output_type": "stream",
     "text": [
      "https://dace.unige.ch/downloads/resonant_state/simulations/tables/Alnajjarine/Alnajjarine_run01/Alnajjarine_run01_metatable_table.parquet\n",
      "https://dace.unige.ch/downloads/resonant_state/simulations/tables/Izidoro/Izidoro_run00/Izidoro_run00_metatable_table.parquet\n",
      "https://dace.unige.ch/downloads/resonant_state/simulations/tables/Goldberg/Goldberg_normal_disk/Goldberg_normal_disk_metatable_table.parquet\n",
      "https://dace.unige.ch/downloads/resonant_state/simulations/tables/Goldberg/Goldberg_planetesimal_disk/Goldberg_planetesimal_disk_metatable_table.parquet\n",
      "https://dace.unige.ch/downloads/resonant_state/simulations/tables/Goldberg/Goldberg_tidal_evolution/Goldberg_tidal_evolution_metatable_table.parquet\n",
      "https://dace.unige.ch/downloads/resonant_state/simulations/tables/Goldberg/Goldberg_turbulence/Goldberg_turbulence_metatable_table.parquet\n",
      "https://dace.unige.ch/downloads/resonant_state/simulations/tables/Marques/Marques_NG132/Marques_NG132_metatable_table.parquet\n",
      "https://dace.unige.ch/downloads/resonant_state/simulations/tables/Marques/Marques_NG137/Marques_NG137_metatable_table.parquet\n",
      "https://dace.unige.ch/downloads/resonant_state/simulations/tables/Marques/Marques_NG140/Marques_NG140_metatable_table.parquet\n",
      "https://dace.unige.ch/downloads/resonant_state/simulations/tables/Marques/Marques_NG76/Marques_NG76_metatable_table.parquet\n",
      "https://dace.unige.ch/downloads/resonant_state/simulations/tables/Marques/Marques_NGM10/Marques_NGM10_metatable_table.parquet\n",
      "https://dace.unige.ch/downloads/resonant_state/simulations/tables/Marques/Marques_NGM11/Marques_NGM11_metatable_table.parquet\n",
      "https://dace.unige.ch/downloads/resonant_state/simulations/tables/Marques/Marques_NGM12/Marques_NGM12_metatable_table.parquet\n",
      "https://dace.unige.ch/downloads/resonant_state/simulations/tables/Marques/Marques_NGM14/Marques_NGM14_metatable_table.parquet\n",
      "https://dace.unige.ch/downloads/resonant_state/simulations/tables/Ataiee/Ataiee_run01/Ataiee_run01_metatable_table.parquet\n",
      "https://dace.unige.ch/downloads/resonant_state/simulations/tables/Ataiee/Ataiee_run02/Ataiee_run02_metatable_table.parquet\n",
      "https://dace.unige.ch/downloads/resonant_state/simulations/tables/Ataiee/Ataiee_run03/Ataiee_run03_metatable_table.parquet\n",
      "https://dace.unige.ch/downloads/resonant_state/simulations/tables/Ataiee/Ataiee_run04/Ataiee_run04_metatable_table.parquet\n",
      "https://dace.unige.ch/downloads/resonant_state/simulations/tables/Shibata_Izidoro/Shibata_run00/Shibata_run00_metatable_table.parquet\n",
      "https://dace.unige.ch/downloads/resonant_state/simulations/tables/Shibata_Izidoro/Shibata_run01/Shibata_run01_metatable_table.parquet\n"
     ]
    }
   ],
   "source": [
    "dataframe_summary_simulations = get_metadata_summary_simulations()\n",
    "for url in dataframe_summary_simulations.iloc[:, -1]:\n",
    "    print(url)"
   ]
  },
  {
   "cell_type": "markdown",
   "metadata": {},
   "source": [
    "Let's select the tidal evolution simulations from max goldberg:"
   ]
  },
  {
   "cell_type": "code",
   "execution_count": 3,
   "metadata": {},
   "outputs": [
    {
     "data": {
      "text/html": [
       "<div>\n",
       "<style scoped>\n",
       "    .dataframe tbody tr th:only-of-type {\n",
       "        vertical-align: middle;\n",
       "    }\n",
       "\n",
       "    .dataframe tbody tr th {\n",
       "        vertical-align: top;\n",
       "    }\n",
       "\n",
       "    .dataframe thead th {\n",
       "        text-align: right;\n",
       "    }\n",
       "</style>\n",
       "<table border=\"1\" class=\"dataframe\">\n",
       "  <thead>\n",
       "    <tr style=\"text-align: right;\">\n",
       "      <th></th>\n",
       "      <th>contact_mail</th>\n",
       "      <th>run_ID</th>\n",
       "      <th>simulation_type</th>\n",
       "      <th>number_of_runs</th>\n",
       "      <th>maximum_number_of_planets</th>\n",
       "      <th>code_used</th>\n",
       "      <th>bibtex</th>\n",
       "      <th>url_of_table</th>\n",
       "    </tr>\n",
       "  </thead>\n",
       "  <tbody>\n",
       "    <tr>\n",
       "      <th>4</th>\n",
       "      <td>max.goldberg@oca.eu</td>\n",
       "      <td>tidal_evolution</td>\n",
       "      <td>tidal_evolution</td>\n",
       "      <td>200</td>\n",
       "      <td>2</td>\n",
       "      <td>https://github.com/goldbergmax/resonant-captur...</td>\n",
       "      <td>2023ApJ...948...12G</td>\n",
       "      <td>https://dace.unige.ch/downloads/resonant_state...</td>\n",
       "    </tr>\n",
       "  </tbody>\n",
       "</table>\n",
       "</div>"
      ],
      "text/plain": [
       "          contact_mail           run_ID  simulation_type  number_of_runs  \\\n",
       "4  max.goldberg@oca.eu  tidal_evolution  tidal_evolution             200   \n",
       "\n",
       "   maximum_number_of_planets  \\\n",
       "4                          2   \n",
       "\n",
       "                                           code_used               bibtex  \\\n",
       "4  https://github.com/goldbergmax/resonant-captur...  2023ApJ...948...12G   \n",
       "\n",
       "                                        url_of_table  \n",
       "4  https://dace.unige.ch/downloads/resonant_state...  "
      ]
     },
     "execution_count": 3,
     "metadata": {},
     "output_type": "execute_result"
    }
   ],
   "source": [
    "dataframe_tidal_evolution = dataframe_summary_simulations[dataframe_summary_simulations['simulation_type'] == 'tidal_evolution']\n",
    "dataframe_tidal_evolution_mg = dataframe_tidal_evolution[dataframe_tidal_evolution[\"contact_mail\"] == \"max.goldberg@oca.eu\"]\n",
    "dataframe_tidal_evolution_mg"
   ]
  },
  {
   "cell_type": "code",
   "execution_count": null,
   "metadata": {},
   "outputs": [],
   "source": []
  },
  {
   "cell_type": "markdown",
   "metadata": {},
   "source": [
    "FOR DEVELOPMENT:\n",
    "we can download the whole metadata table:"
   ]
  },
  {
   "cell_type": "code",
   "execution_count": 11,
   "metadata": {},
   "outputs": [],
   "source": [
    "dataframe_complet_simulations = _get_metadata_complet_simulations()"
   ]
  },
  {
   "cell_type": "code",
   "execution_count": null,
   "metadata": {},
   "outputs": [
    {
     "name": "stdout",
     "output_type": "stream",
     "text": [
      "https://dace.unige.ch/downloads/resonant_state/simulations/tables/Alnajjarine/Alnajjarine_run01/Alnajjarine_run01_metatable_table.parquet\n",
      "https://dace.unige.ch/downloads/resonant_state/simulations/tables/Izidoro/Izidoro_run00/Izidoro_run00_metatable_table.parquet\n",
      "https://dace.unige.ch/downloads/resonant_state/simulations/tables/Goldberg/Goldberg_normal_disk/Goldberg_normal_disk_metatable_table.parquet\n",
      "https://dace.unige.ch/downloads/resonant_state/simulations/tables/Goldberg/Goldberg_planetesimal_disk/Goldberg_planetesimal_disk_metatable_table.parquet\n",
      "https://dace.unige.ch/downloads/resonant_state/simulations/tables/Goldberg/Goldberg_tidal_evolution/Goldberg_tidal_evolution_metatable_table.parquet\n",
      "https://dace.unige.ch/downloads/resonant_state/simulations/tables/Goldberg/Goldberg_turbulence/Goldberg_turbulence_metatable_table.parquet\n",
      "https://dace.unige.ch/downloads/resonant_state/simulations/tables/Marques/Marques_NG132/Marques_NG132_metatable_table.parquet\n",
      "https://dace.unige.ch/downloads/resonant_state/simulations/tables/Marques/Marques_NG137/Marques_NG137_metatable_table.parquet\n",
      "https://dace.unige.ch/downloads/resonant_state/simulations/tables/Marques/Marques_NG140/Marques_NG140_metatable_table.parquet\n",
      "https://dace.unige.ch/downloads/resonant_state/simulations/tables/Marques/Marques_NG76/Marques_NG76_metatable_table.parquet\n",
      "https://dace.unige.ch/downloads/resonant_state/simulations/tables/Marques/Marques_NGM10/Marques_NGM10_metatable_table.parquet\n",
      "https://dace.unige.ch/downloads/resonant_state/simulations/tables/Marques/Marques_NGM11/Marques_NGM11_metatable_table.parquet\n",
      "https://dace.unige.ch/downloads/resonant_state/simulations/tables/Marques/Marques_NGM12/Marques_NGM12_metatable_table.parquet\n",
      "https://dace.unige.ch/downloads/resonant_state/simulations/tables/Marques/Marques_NGM14/Marques_NGM14_metatable_table.parquet\n",
      "https://dace.unige.ch/downloads/resonant_state/simulations/tables/Ataiee/Ataiee_run01/Ataiee_run01_metatable_table.parquet\n",
      "https://dace.unige.ch/downloads/resonant_state/simulations/tables/Ataiee/Ataiee_run02/Ataiee_run02_metatable_table.parquet\n",
      "https://dace.unige.ch/downloads/resonant_state/simulations/tables/Ataiee/Ataiee_run03/Ataiee_run03_metatable_table.parquet\n",
      "https://dace.unige.ch/downloads/resonant_state/simulations/tables/Ataiee/Ataiee_run04/Ataiee_run04_metatable_table.parquet\n",
      "https://dace.unige.ch/downloads/resonant_state/simulations/tables/Shibata_Izidoro/Shibata_run00/Shibata_run00_metatable_table.parquet\n",
      "https://dace.unige.ch/downloads/resonant_state/simulations/tables/Shibata_Izidoro/Shibata_run01/Shibata_run01_metatable_table.parquet\n"
     ]
    },
    {
     "data": {
      "text/html": [
       "<div>\n",
       "<style scoped>\n",
       "    .dataframe tbody tr th:only-of-type {\n",
       "        vertical-align: middle;\n",
       "    }\n",
       "\n",
       "    .dataframe tbody tr th {\n",
       "        vertical-align: top;\n",
       "    }\n",
       "\n",
       "    .dataframe thead th {\n",
       "        text-align: right;\n",
       "    }\n",
       "</style>\n",
       "<table border=\"1\" class=\"dataframe\">\n",
       "  <thead>\n",
       "    <tr style=\"text-align: right;\">\n",
       "      <th></th>\n",
       "    </tr>\n",
       "  </thead>\n",
       "  <tbody>\n",
       "    <tr>\n",
       "      <th>contact_mail</th>\n",
       "    </tr>\n",
       "    <tr>\n",
       "      <th>run_ID</th>\n",
       "    </tr>\n",
       "    <tr>\n",
       "      <th>simulation_type</th>\n",
       "    </tr>\n",
       "    <tr>\n",
       "      <th>number_of_runs</th>\n",
       "    </tr>\n",
       "    <tr>\n",
       "      <th>maximum_number_of_planets</th>\n",
       "    </tr>\n",
       "    <tr>\n",
       "      <th>code_used</th>\n",
       "    </tr>\n",
       "    <tr>\n",
       "      <th>bibtex</th>\n",
       "    </tr>\n",
       "    <tr>\n",
       "      <th>url_of_table</th>\n",
       "    </tr>\n",
       "  </tbody>\n",
       "</table>\n",
       "</div>"
      ],
      "text/plain": [
       "Empty DataFrame\n",
       "Columns: []\n",
       "Index: [contact_mail, run_ID, simulation_type, number_of_runs, maximum_number_of_planets, code_used, bibtex, url_of_table]"
      ]
     },
     "execution_count": 12,
     "metadata": {},
     "output_type": "execute_result"
    }
   ],
   "source": [
    "dataframe_complet_simulations.head()"
   ]
  },
  {
   "cell_type": "code",
   "execution_count": 6,
   "metadata": {},
   "outputs": [
    {
     "data": {
      "text/plain": [
       "(20, 8)"
      ]
     },
     "execution_count": 6,
     "metadata": {},
     "output_type": "execute_result"
    }
   ],
   "source": [
    "dataframe_complet_simulations.shape"
   ]
  },
  {
   "cell_type": "code",
   "execution_count": null,
   "metadata": {},
   "outputs": [],
   "source": []
  }
 ],
 "metadata": {
  "kernelspec": {
   "display_name": "grsw",
   "language": "python",
   "name": "python3"
  },
  "language_info": {
   "codemirror_mode": {
    "name": "ipython",
    "version": 3
   },
   "file_extension": ".py",
   "mimetype": "text/x-python",
   "name": "python",
   "nbconvert_exporter": "python",
   "pygments_lexer": "ipython3",
   "version": "3.13.2"
  }
 },
 "nbformat": 4,
 "nbformat_minor": 2
}
