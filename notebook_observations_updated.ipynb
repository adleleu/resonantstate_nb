{
 "cells": [
  {
   "cell_type": "markdown",
   "metadata": {},
   "source": [
    "# GRSW observations notebook"
   ]
  },
  {
   "cell_type": "markdown",
   "metadata": {},
   "source": [
    "This notebook shows how to access the summary table of the observations data compiled for the GRSW workshop.\n",
    "It require to pull a python package to access easily the data stored on [DACE](https://dace.unige.ch/dashboard/)"
   ]
  },
  {
   "cell_type": "markdown",
   "metadata": {},
   "source": [
    "First we need to import the function needed for the notebook"
   ]
  },
  {
   "cell_type": "code",
   "execution_count": null,
   "metadata": {},
   "outputs": [],
   "source": [
    "from resonantstate.data_download  import get_metadata_observations, download_observations_samples\n",
    "from resonantstate.analyse_samples import *\n",
    "from resonantstate.ell2SFM import *\n",
    "from resonantstate.simulations_resonance_analysis import *"
   ]
  },
  {
   "cell_type": "markdown",
   "metadata": {},
   "source": [
    "## Data download"
   ]
  },
  {
   "cell_type": "markdown",
   "metadata": {},
   "source": [
    "We can download the metatable to have a look on the available observations samples. The table will be returned in the form of a pandas DataFrame (df):"
   ]
  },
  {
   "cell_type": "code",
   "execution_count": null,
   "metadata": {},
   "outputs": [],
   "source": [
    "df_all_obs = get_metadata_observations()\n",
    "df_all_obs.head()"
   ]
  },
  {
   "cell_type": "markdown",
   "metadata": {},
   "source": [
    "We can have a look on the available columns:"
   ]
  },
  {
   "cell_type": "code",
   "execution_count": null,
   "metadata": {},
   "outputs": [],
   "source": [
    "df_all_obs.head(0).T"
   ]
  },
  {
   "cell_type": "markdown",
   "metadata": {},
   "source": [
    "Let's look at the list of analysed systems:"
   ]
  },
  {
   "cell_type": "code",
   "execution_count": null,
   "metadata": {},
   "outputs": [],
   "source": [
    "df_all_obs[\"star_name\"].unique()"
   ]
  },
  {
   "cell_type": "markdown",
   "metadata": {},
   "source": [
    "Lets keep only the analysis of one of the systems:"
   ]
  },
  {
   "cell_type": "code",
   "execution_count": null,
   "metadata": {},
   "outputs": [],
   "source": [
    "target = \"Kepler-128\"\n",
    "\n",
    "df_selected = df_all_obs[df_all_obs[\"star_name\"].isin([target])]\n",
    "df_selected.head(100)"
   ]
  },
  {
   "cell_type": "markdown",
   "metadata": {},
   "source": [
    "We can look at the different mass priors used in the analyses:"
   ]
  },
  {
   "cell_type": "code",
   "execution_count": null,
   "metadata": {},
   "outputs": [],
   "source": [
    "df_selected['mass_prior']"
   ]
  },
  {
   "cell_type": "markdown",
   "metadata": {},
   "source": [
    "Let's download the samples from these systems. If a path is given, it saves the samples into the given directory."
   ]
  },
  {
   "cell_type": "code",
   "execution_count": null,
   "metadata": {},
   "outputs": [],
   "source": [
    "#download_destination_path = \"downloaded_observtions_samples/\"\n",
    "download_destination_path = None\n",
    "df_list = download_observations_samples(df_selected, download_destination_path)"
   ]
  },
  {
   "cell_type": "markdown",
   "metadata": {},
   "source": [
    "The downloaded samples are returned as a list. Each element of the list is a dictionnary containing informations on the downloaded sample and the sample itself. \n",
    "\n",
    "Looking at the first element of the list, we can see its structure:"
   ]
  },
  {
   "cell_type": "code",
   "execution_count": null,
   "metadata": {},
   "outputs": [],
   "source": [
    "for k,v in df_list[0].items():\n",
    "    if k == \"samples\":\n",
    "        print(f\"{k}:\\t...\")\n",
    "    else:\n",
    "        print(f\"{k}:\\t{v}\")"
   ]
  },
  {
   "cell_type": "markdown",
   "metadata": {},
   "source": [
    "Let's have a look at the samples from the first analysis:"
   ]
  },
  {
   "cell_type": "code",
   "execution_count": null,
   "metadata": {},
   "outputs": [],
   "source": [
    "df = df_list[0]['samples']\n",
    "df.head()"
   ]
  },
  {
   "cell_type": "markdown",
   "metadata": {},
   "source": [
    "You can save the dataframe of this sample as a csv file for future analysis:"
   ]
  },
  {
   "cell_type": "code",
   "execution_count": null,
   "metadata": {},
   "outputs": [],
   "source": [
    "#destination_path = 'your_path_to_file/'\n",
    "#sample_name = df_list[0]['sample_name'] \n",
    "#filename = destination_path + sample_name + '.csv'\n",
    "#df.to_csv(filename, index=False)"
   ]
  },
  {
   "cell_type": "markdown",
   "metadata": {},
   "source": [
    "Let's say you want to plot a mass-period diagram for a planet. You can directly extract each column from the header of the dataframe. Remember that planet indexing starts from 0."
   ]
  },
  {
   "cell_type": "code",
   "execution_count": null,
   "metadata": {},
   "outputs": [],
   "source": [
    "n_planet = 0\n",
    "\n",
    "mass = df[f'mass_planet_star_ratio_{n_planet}']\n",
    "period = df[f'period_days_{n_planet}']\n",
    "\n",
    "plt.figure()\n",
    "plt.scatter(mass, period, alpha=0.1)\n",
    "plt.xlabel('Mp/M*')\n",
    "plt.ylabel('P (d)')\n",
    "plt.title(f'planet {n_planet}')\n",
    "plt.show()"
   ]
  },
  {
   "cell_type": "markdown",
   "metadata": {},
   "source": [
    "Now try plotting the mass-eccentricity diagram:"
   ]
  },
  {
   "cell_type": "code",
   "execution_count": null,
   "metadata": {},
   "outputs": [],
   "source": []
  },
  {
   "cell_type": "markdown",
   "metadata": {},
   "source": [
    "## Analysis part 1: Simple plots"
   ]
  },
  {
   "cell_type": "markdown",
   "metadata": {},
   "source": [
    "Perhaps you might be more interested in comparing the samples for each planet across different analyses.\n",
    "\n",
    "We have prepared a few useful functions to make histograms and scatter plots of the different parameters. These functions loop over each analysis in your selected list of dictionaries and creates separate subplots for each planet, allowing you to compare the samples for each planet across different analyses."
   ]
  },
  {
   "cell_type": "markdown",
   "metadata": {},
   "source": [
    "You can directly plot the following parameters:\n",
    "- **\"period\"**      (in days)\n",
    "- **\"k\"**           (ecos(varpi))\n",
    "- **\"h\"**           (esin(varpi))\n",
    "- **\"incl\"**        (inclination in deg)\n",
    "- **\"omega\"**       (longitude of ascending node in deg)\n",
    "- **\"mass\"**        (in stellar mass)\n",
    "- **\"radius\"**      (in stellar radii)\n",
    "- **\"lambda\"**      (mean longitude in deg)\n",
    "\n",
    "You can also extract the following derived parameters:\n",
    "- **\"ecc\"**         (eccentricity)\n",
    "- **\"varpi\"**       (longitude of pericenter in deg)\n",
    "- **\"density\"**     (in stellar density)"
   ]
  },
  {
   "cell_type": "markdown",
   "metadata": {},
   "source": [
    "We can have a look at the total of planets included in our list of dictionaries:"
   ]
  },
  {
   "cell_type": "code",
   "execution_count": null,
   "metadata": {},
   "outputs": [],
   "source": [
    "planets = get_all_planets(df_list)\n",
    "planets"
   ]
  },
  {
   "cell_type": "markdown",
   "metadata": {},
   "source": [
    "Let's first make histograms comparing the *mass posteriors* for each planet."
   ]
  },
  {
   "cell_type": "code",
   "execution_count": null,
   "metadata": {},
   "outputs": [],
   "source": [
    "plot_histograms(df_list, param='mass', units='star')"
   ]
  },
  {
   "cell_type": "markdown",
   "metadata": {},
   "source": [
    "Let's convert the units to something more intuitive.\n",
    "\n",
    "Valid units are: **\"star\"** (default), **\"sun\"**, **\"earth\"**, **\"jup\"**, or **\"SI\"**\n",
    "\n",
    "Unit conversion applies to parameters *\"mass\"*, *\"radius\"*, or *\"density\"*\n",
    "\n",
    "Try changing the units in the above histograms.\n",
    "\n",
    "Let's now make scatter plots of the different parameters. "
   ]
  },
  {
   "cell_type": "code",
   "execution_count": null,
   "metadata": {},
   "outputs": [],
   "source": [
    "plot_samples(df_list, x_param='mass', y_param='ecc', units='earth')"
   ]
  },
  {
   "cell_type": "markdown",
   "metadata": {},
   "source": [
    "Try plotting the **period-density** diagrams with the density in **SI units**:"
   ]
  },
  {
   "cell_type": "code",
   "execution_count": null,
   "metadata": {},
   "outputs": [],
   "source": [
    "#plot_samples()"
   ]
  },
  {
   "cell_type": "markdown",
   "metadata": {},
   "source": [
    "We might also be interested in the posterior distributions of **consecutive planets**:"
   ]
  },
  {
   "cell_type": "code",
   "execution_count": null,
   "metadata": {},
   "outputs": [],
   "source": [
    "plot_adjacent_planets(df_list, \n",
    "                      param='mass', \n",
    "                      planet_pair=planets[0:2],\n",
    "                      units='earth')"
   ]
  },
  {
   "cell_type": "markdown",
   "metadata": {},
   "source": [
    "We can also compare the **period ratios** between adjacent planets:"
   ]
  },
  {
   "cell_type": "code",
   "execution_count": null,
   "metadata": {},
   "outputs": [],
   "source": [
    "compare_period_ratios(df_list, planet_pair=planets[0:2])"
   ]
  },
  {
   "cell_type": "markdown",
   "metadata": {},
   "source": [
    "Let's now look at the **Kepler-80 system**. Search and download the samples into a list of dictionaries as before."
   ]
  },
  {
   "cell_type": "code",
   "execution_count": null,
   "metadata": {},
   "outputs": [],
   "source": [
    "target2 = 'Kepler-80'\n",
    "\n",
    "#df_selected2 = ..."
   ]
  },
  {
   "cell_type": "markdown",
   "metadata": {},
   "source": [
    "Have a go at visualising the different parameters of the samples as before."
   ]
  },
  {
   "cell_type": "code",
   "execution_count": null,
   "metadata": {},
   "outputs": [],
   "source": [
    "# your plots here..."
   ]
  },
  {
   "cell_type": "markdown",
   "metadata": {},
   "source": [
    "### Analysis part 2: Second Fundamental Model of Resonance"
   ]
  },
  {
   "cell_type": "markdown",
   "metadata": {},
   "source": [
    "For the next part we will be plotting the elliptic elements of one system into the *Second Fundamental Model* of resonance. These functions are intended for planet pairs in **first-order** mean motion resonance. \n",
    "\n",
    "Let's start by looking at one set of analysis. You can visualize the available pairs of planets in first-order resonance with the following function:"
   ]
  },
  {
   "cell_type": "code",
   "execution_count": null,
   "metadata": {},
   "outputs": [],
   "source": [
    "df_dict = df_list[2]\n",
    "\n",
    "plot_ell2SFM(df_dict)   # takes dictionary or dataframe or numpy array"
   ]
  },
  {
   "cell_type": "markdown",
   "metadata": {},
   "source": [
    "Instead of plotting the samples with a solid colour, you can also give a numpy array of values such as the masses:"
   ]
  },
  {
   "cell_type": "code",
   "execution_count": null,
   "metadata": {},
   "outputs": [],
   "source": [
    "import pandas as pd\n",
    "\n",
    "samples = df_dict['samples']\n",
    "\n",
    "total_mass1 = pd.Series.to_numpy(samples['mass_planet_star_ratio_0'] + samples['mass_planet_star_ratio_1'])\n",
    "min_mass, max_mass = total_mass1.min(), total_mass1.max()\n",
    "\n",
    "plot_ell2SFM(df_dict, colors=[total_mass1], color_lim=(min_mass, max_mass))"
   ]
  },
  {
   "cell_type": "markdown",
   "metadata": {},
   "source": [
    "Here is an example visualising more than one pair of planets in a system:"
   ]
  },
  {
   "cell_type": "code",
   "execution_count": null,
   "metadata": {},
   "outputs": [],
   "source": [
    "target3 = \"Kepler-60\"\n",
    "\n",
    "df_selected3 = df_all_obs[df_all_obs[\"star_name\"].isin([target3])]\n",
    "df_list3 = download_observations_samples(df_selected3)\n",
    "\n",
    "samples_dict3 = df_list3[4]\n",
    "\n",
    "plot_ell2SFM(samples_dict3)"
   ]
  },
  {
   "cell_type": "markdown",
   "metadata": {},
   "source": [
    "You can also give numpy arrays such as masses to more than one pair of planets. The colormap scales automatically unless otherwise specified."
   ]
  },
  {
   "cell_type": "code",
   "execution_count": null,
   "metadata": {},
   "outputs": [],
   "source": [
    "samples3 = samples_dict3['samples']\n",
    "\n",
    "total_mass1 = pd.Series.to_numpy(samples3['mass_planet_star_ratio_0'] + samples3['mass_planet_star_ratio_1'])\n",
    "total_mass2 = pd.Series.to_numpy(samples3['mass_planet_star_ratio_1'] + samples3['mass_planet_star_ratio_2'])\n",
    "\n",
    "plot_ell2SFM(samples_dict3, colors=[total_mass1, total_mass2], color_lim=(None, None))"
   ]
  },
  {
   "cell_type": "markdown",
   "metadata": {},
   "source": [
    "Use the following space to explore samples from the Kepler-80 dictionaries you downloaded before."
   ]
  },
  {
   "cell_type": "code",
   "execution_count": null,
   "metadata": {},
   "outputs": [],
   "source": [
    "# your plots here..."
   ]
  },
  {
   "cell_type": "code",
   "execution_count": null,
   "metadata": {},
   "outputs": [],
   "source": []
  }
 ],
 "metadata": {
  "kernelspec": {
   "display_name": "base",
   "language": "python",
   "name": "python3"
  },
  "language_info": {
   "codemirror_mode": {
    "name": "ipython",
    "version": 3
   },
   "file_extension": ".py",
   "mimetype": "text/x-python",
   "name": "python",
   "nbconvert_exporter": "python",
   "pygments_lexer": "ipython3",
   "version": "3.12.7"
  }
 },
 "nbformat": 4,
 "nbformat_minor": 2
}
